{
 "cells": [
  {
   "cell_type": "markdown",
   "metadata": {},
   "source": [
    "Electrostatic force between the charges\n",
    "\n",
    "The Coulomb's force between two charges  q1  and  q2 separated at distance  r  is given as;\n",
    "F=kq1q2/r^2, where  k=9×10^9 Nm^2/C^2\n",
    "\n",
    "Write a code for function to calculate the Coulomb's force between two given charge at given distance.\n",
    "Use list to calculate the variation of Coulomb's force between two charges (as you like) placed at a range of distance (choose range in your favour).\n",
    "Make a plot that shows the variation of Coulomb's force with distance using list\n"
   ]
  },
  {
   "cell_type": "markdown",
   "metadata": {},
   "source": [
    "Let the two charges be q1=2C, and q2=3C."
   ]
  },
  {
   "cell_type": "code",
   "execution_count": 14,
   "metadata": {
    "collapsed": true
   },
   "outputs": [],
   "source": [
    "k=9*10**9\n",
    "def force (r,q1,q2): #function to calculate Coulomb's force\n",
    "    return k*q1*q2/(r**2)"
   ]
  },
  {
   "cell_type": "code",
   "execution_count": 15,
   "metadata": {
    "collapsed": true
   },
   "outputs": [],
   "source": [
    "#Range of distances\n",
    "F=[]\n",
    "R=[]\n",
    "q1=2\n",
    "q2=3\n",
    "for r in range(1,50):\n",
    "    F.append(force(r,q1,q2))\n",
    "    R.append(r)\n",
    "    "
   ]
  },
  {
   "cell_type": "code",
   "execution_count": 16,
   "metadata": {},
   "outputs": [
    {
     "data": {
      "text/plain": [
       "[<matplotlib.lines.Line2D at 0x2461ee7c5f8>]"
      ]
     },
     "execution_count": 16,
     "metadata": {},
     "output_type": "execute_result"
    },
    {
     "data": {
      "image/png": "[encoded data removed]",
      "text/plain": [
       "<matplotlib.figure.Figure at 0x2461edaf7b8>"
      ]
     },
     "metadata": {},
     "output_type": "display_data"
    }
   ],
   "source": [
    "#Plot of the range of distances vs corresponding force\n",
    "import matplotlib.pyplot as plt\n",
    "% matplotlib inline\n",
    "plt.plot(R,F)"
   ]
  },
  {
   "cell_type": "code",
   "execution_count": null,
   "metadata": {
    "collapsed": true
   },
   "outputs": [],
   "source": []
  }
 ],
 "metadata": {
  "kernelspec": {
   "display_name": "Python 3",
   "language": "python",
   "name": "python3"
  },
  "language_info": {
   "codemirror_mode": {
    "name": "ipython",
    "version": 3
   },
   "file_extension": ".py",
   "mimetype": "text/x-python",
   "name": "python",
   "nbconvert_exporter": "python",
   "pygments_lexer": "ipython3",
   "version": "3.6.2"
  }
 },
 "nbformat": 4,
 "nbformat_minor": 2
}
